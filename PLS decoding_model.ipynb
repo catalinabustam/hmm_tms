{
 "cells": [
  {
   "cell_type": "markdown",
   "id": "38d4e74b",
   "metadata": {},
   "source": [
    "## PLS  Base  on pre model"
   ]
  },
  {
   "cell_type": "code",
   "execution_count": 2,
   "id": "fc70b89e",
   "metadata": {},
   "outputs": [
    {
     "name": "stderr",
     "output_type": "stream",
     "text": [
      "/home/jarvis/.local/lib/python3.7/site-packages/nilearn/datasets/__init__.py:90: FutureWarning: Fetchers from the nilearn.datasets module will be updated in version 0.9 to return python strings instead of bytes and Pandas dataframes instead of Numpy arrays.\n",
      "  \"Numpy arrays.\", FutureWarning)\n",
      "/home/jarvis/miniconda3/envs/hmm/lib/python3.7/site-packages/outdated/utils.py:18: OutdatedPackageWarning: The package outdated is out of date. Your version is 0.2.0, the latest is 0.2.1.\n",
      "Set the environment variable OUTDATED_IGNORE=1 to disable these warnings.\n",
      "  **kwargs\n",
      "/home/jarvis/miniconda3/envs/hmm/lib/python3.7/site-packages/outdated/utils.py:18: OutdatedPackageWarning: The package pingouin is out of date. Your version is 0.3.11, the latest is 0.5.1.\n",
      "Set the environment variable OUTDATED_IGNORE=1 to disable these warnings.\n",
      "  **kwargs\n"
     ]
    }
   ],
   "source": [
    "from hmmlearn import hmm\n",
    "import glob\n",
    "import os\n",
    "from numpy import load\n",
    "import pandas as pd\n",
    "from sklearn.preprocessing import StandardScaler\n",
    "import numpy as np\n",
    "from hmmlearn import hmm\n",
    "import matplotlib.pyplot as plt\n",
    "import seaborn as sns\n",
    "from copy import copy, deepcopy\n",
    "from statistics import mean\n",
    "from mlxtend.evaluate import permutation_test\n",
    "from nilearn import plotting\n",
    "import nilearn\n",
    "from statsmodels.stats.multitest import multipletests\n",
    "from statsmodels.multivariate.manova import MANOVA\n",
    "import pingouin as pg\n",
    "from sklearn.model_selection import LeaveOneOut\n",
    "from copy import copy\n",
    "from tqdm import tqdm\n",
    "import pickle\n",
    "from pyentrp import entropy as ent\n",
    "import scipy.stats as stats\n",
    "from scipy.stats import zscore\n",
    "from itertools import groupby\n",
    "from statistics import mean\n",
    "from pyls import meancentered_pls\n"
   ]
  },
  {
   "cell_type": "code",
   "execution_count": 2,
   "id": "b9aac140",
   "metadata": {},
   "outputs": [
    {
     "name": "stdout",
     "output_type": "stream",
     "text": [
      "The scikit-learn version is 1.0.\n"
     ]
    }
   ],
   "source": [
    "import sklearn\n",
    "print('The scikit-learn version is {}.'.format(sklearn.__version__))"
   ]
  },
  {
   "cell_type": "code",
   "execution_count": 3,
   "id": "75345ac6",
   "metadata": {},
   "outputs": [],
   "source": [
    "sns.set_context(\"notebook\", font_scale=1.5)"
   ]
  },
  {
   "cell_type": "code",
   "execution_count": 4,
   "id": "8f40a175",
   "metadata": {},
   "outputs": [],
   "source": [
    "%load_ext autoreload\n",
    "%autoreload 2\n",
    "\n",
    "%reload_ext autoreload"
   ]
  },
  {
   "cell_type": "code",
   "execution_count": 5,
   "id": "f59c5d58",
   "metadata": {},
   "outputs": [],
   "source": [
    "dirpath = '/home/jarvis/Documentos/catalina/hmm/TIME_SERIES/'\n",
    "subjects = [os.path.basename(x) for x in glob.glob(dirpath + '*sub*')]\n",
    "scans = ['_scan_restpre', '_scan_restpost']\n",
    "stimuli = ['ses-occ', 'ses-fro' ]\n",
    "\n",
    "parcel=\"_mask_Schaefer2018_400_17N_MNI152_2mm_mask_file_..input..data..Schaefer2018_400_17N_MNI152_2mm.nii.gz\""
   ]
  },
  {
   "cell_type": "code",
   "execution_count": 6,
   "id": "f978333c",
   "metadata": {},
   "outputs": [],
   "source": [
    "scaler = StandardScaler()\n",
    "schafer_file = '/home/jarvis/Documentos/catalina/hmm/tms_hmm/Schaefer2018_400_17N_Centroid_RAS.csv'\n",
    "schafer = pd.read_csv(schafer_file, header=None, skiprows=[0,1])\n",
    "schafer['network'] = schafer[1].str.split('_').str.get(2)\n",
    "schafer['network_id'] = schafer.network.astype(\"category\").cat.codes\n",
    "schafer_image = '/home/jarvis/Documentos/catalina/hmm/tms_hmm/Schaefer2018_400_17N_MNI152_2mm.nii'"
   ]
  },
  {
   "cell_type": "code",
   "execution_count": 7,
   "id": "1e5e185a",
   "metadata": {},
   "outputs": [],
   "source": [
    "def get_time_series_network(dirpath, subects, stimulus, scan, parcel):\n",
    "    \n",
    "    subject_list = []\n",
    "    series_array = []\n",
    "    \n",
    "    for subject in subjects:\n",
    "        file_path = f'{dirpath}/{subject}/{stimulus}/roi_timeseries_0/{scan}/_compcor_ncomponents_5_selector_pc10.linear1.wm1.global0.motion1.quadratic1.gm0.compcor1.csf1/_bandpass_freqs_0.01.0.1/{parcel}/roi_stats.csv'\n",
    "        series = pd.read_csv(file_path, skiprows=[0,1], header=None, delimiter='\\t')\n",
    "        scaled_series = series.apply(zscore)\n",
    "        scaled_series = scaled_series.T\n",
    "        scaled_series['network'] = schafer['network']\n",
    "        series_average = scaled_series.groupby('network').mean()\n",
    "        series_average = series_average.drop(\"Limbic\", axis=0)\n",
    "        \n",
    "        series_array.append(series_average.T)\n",
    "    return series_array"
   ]
  },
  {
   "cell_type": "code",
   "execution_count": 8,
   "id": "ddd25f35",
   "metadata": {},
   "outputs": [],
   "source": [
    "def get_time_series_all(dirpath, subects, stimulus, scan, parcel):\n",
    "    \n",
    "    subject_list = []\n",
    "    series_array = []\n",
    "    \n",
    "    for subject in subjects:\n",
    "        file_path = f'{dirpath}/{subject}/{stimulus}/roi_timeseries_0/{scan}/_compcor_ncomponents_5_selector_pc10.linear1.wm1.global0.motion1.quadratic1.gm0.compcor1.csf1/_bandpass_freqs_0.01.0.1/{parcel}/roi_stats.csv'\n",
    "        series = pd.read_csv(file_path, skiprows=[0,1], header=None, delimiter='\\t')\n",
    "        scaled_series = series.T\n",
    "        scaled_series['network'] = schafer['network']\n",
    "        scaled_series.drop(scaled_series.index[scaled_series['network'] == 'Limbic'], inplace=True)\n",
    "        del scaled_series['network']\n",
    "        series_array.append(scaled_series.values.T)\n",
    "    return series_array"
   ]
  },
  {
   "cell_type": "code",
   "execution_count": 9,
   "id": "bdec1724",
   "metadata": {},
   "outputs": [],
   "source": [
    "def get_all_data_networks(scans, stimuli,subjects, dirpath, parcel): \n",
    "    \n",
    "    scans_arrray = []\n",
    "    \n",
    "    for scan in scans:\n",
    "        all_stimulus_array = []\n",
    "        \n",
    "        for stimulus in stimuli:\n",
    "            stimulus_array = get_time_series(dirpath, subjects, stimulus, scan, parcel)\n",
    "            all_stimulus_array.extend(stimulus_array)\n",
    "    scans_arrray.extend(all_stimulus_array)\n",
    "            \n",
    "    return scans_arrray"
   ]
  },
  {
   "cell_type": "code",
   "execution_count": 10,
   "id": "9aa74a6f",
   "metadata": {},
   "outputs": [],
   "source": [
    "def get_all_data(scans, stimuli,subjects, dirpath, parcel): \n",
    "    \n",
    "    scans_arrray = []\n",
    "    \n",
    "    for scan in scans:\n",
    "        all_stimulus_array = []\n",
    "        \n",
    "        for stimulus in stimuli:\n",
    "            stimulus_array = get_time_series_all(dirpath, subjects, stimulus, scan, parcel)\n",
    "            all_stimulus_array.extend(stimulus_array)\n",
    "    scans_arrray.extend(all_stimulus_array)\n",
    "            \n",
    "    return scans_arrray"
   ]
  },
  {
   "cell_type": "code",
   "execution_count": 11,
   "id": "e3b6f3a8",
   "metadata": {},
   "outputs": [],
   "source": [
    "def fit_multiple_init(hmm_model, X, lenghts, n_rep=20):\n",
    "    hmm_all = []\n",
    "    scores_all = []\n",
    "\n",
    "    for i in tqdm(range(n_rep)):\n",
    "        hmm_m = copy(hmm_model)\n",
    "        hmm_m.fit(X, lenghts)\n",
    "        scores_all.append(hmm_m.score(X, lenghts))\n",
    "        hmm_all.append(hmm_m)\n",
    "         \n",
    "    max_index = scores_all.index(max(scores_all))\n",
    "    hmm_f_model = hmm_all[max_index]\n",
    "    \n",
    "    return hmm_f_model"
   ]
  },
  {
   "cell_type": "code",
   "execution_count": 12,
   "id": "cec46212",
   "metadata": {},
   "outputs": [],
   "source": [
    "def fit_multiple_states(hmm_model, X, lenghts, max_states):\n",
    "    hmm_all = []\n",
    "    scores_all = []\n",
    "    states = []\n",
    "    \n",
    "    for state in tqdm(range(3,max_states)):\n",
    "        hmm_m = copy(hmm_model)\n",
    "        hmm_m.n_components= state\n",
    "        hmm_m.fit(X, lenghts)\n",
    "        score = hmm_m.score(X, lenghts)\n",
    "        scores_all.append(score)\n",
    "        hmm_all.append(hmm_m)\n",
    "        states.append(state)\n",
    "        print('states: ',state,'score: ', score)\n",
    "         \n",
    "    max_index = scores_all.index(max(scores_all))\n",
    "    hmm_f_model = hmm_all[max_index]\n",
    "    \n",
    "    return hmm_f_model"
   ]
  },
  {
   "cell_type": "code",
   "execution_count": 13,
   "id": "7084ec46",
   "metadata": {},
   "outputs": [],
   "source": [
    "def transition_matrix_vect(transitions,states):\n",
    "  \n",
    "    M = [[0]*states for _ in range(states)]\n",
    "\n",
    "    for (i,j) in zip(transitions,transitions[1:]):\n",
    "        M[i][j] += 1\n",
    "\n",
    "    #now convert to probabilities:\n",
    "    for row in M:\n",
    "        s = sum(row)\n",
    "        if s > 0:\n",
    "            row[:] = [f/s for f in row]\n",
    "    \n",
    "    \n",
    "    M_non_diag = deepcopy(np.array(M))\n",
    "    np.fill_diagonal(M_non_diag, None)\n",
    "    trilv = M_non_diag[np.tril_indices(states)]\n",
    "    trilv = trilv[~np.isnan(trilv)]\n",
    "    \n",
    "    triuv = M_non_diag[np.triu_indices(states)]\n",
    "    triuv = triuv[~np.isnan(triuv)]\n",
    "    \n",
    "    trans_matr_v = np.concatenate((trilv,triuv))\n",
    "    \n",
    "    return trans_matr_v"
   ]
  },
  {
   "cell_type": "code",
   "execution_count": 14,
   "id": "774f1612",
   "metadata": {},
   "outputs": [],
   "source": [
    "def fraccional_occupacy(transitions,states):\n",
    "    \n",
    "    F = [0 for _ in range(states)]\n",
    "    \n",
    "    Len = len(transitions)\n",
    "    \n",
    "    for i in range(states):\n",
    "        \n",
    "        F[i] = (transitions.tolist().count(i)/Len)*100\n",
    "    \n",
    "    return F  "
   ]
  },
  {
   "cell_type": "code",
   "execution_count": 15,
   "id": "ccf6662b",
   "metadata": {},
   "outputs": [],
   "source": [
    "def mean_life_time(transitions,states):\n",
    "    \n",
    "    ML = [0 for _ in range(states)]\n",
    "    \n",
    "    for state in range(states):\n",
    "        \n",
    "        state_bool = [1 if i==state else 0 for i in transitions]\n",
    "        \n",
    "        size = len(state_bool)\n",
    "        \n",
    "        idx_list = [idx  for idx, val in enumerate(state_bool) if val == 0]\n",
    "    \n",
    "        \n",
    "        split_list = [state_bool[i+1: j] for i, j in zip([-1] + idx_list, idx_list + [size])]\n",
    "        size_list  = [len(b) for b in split_list if b != []]\n",
    "        \n",
    "        ML[state] = mean(size_list) if size_list else 0\n",
    "        \n",
    "        \n",
    "    return ML"
   ]
  },
  {
   "cell_type": "code",
   "execution_count": 16,
   "id": "7b853cde",
   "metadata": {},
   "outputs": [],
   "source": [
    "def interval_time(transitions,states):\n",
    "    IT = [0 for _ in range(states)]\n",
    "    \n",
    "    for state in range(states):\n",
    "        state_bool = [1 if i==state else 0 for i in transitions]\n",
    "        \n",
    "        intervals = [list(g) for k, g in groupby(state_bool, lambda x: x == 0) if k]\n",
    "        \n",
    "        if state_bool[0]==0 and intervals != []:\n",
    "            intervals.pop(0)\n",
    "        if state_bool[-1]==0 and intervals != []:\n",
    "            intervals.pop(-1)\n",
    "        lens = [len(a) for a in intervals]\n",
    "        if len(lens)!=0:\n",
    "            IT[state] = mean(lens)\n",
    "    return IT"
   ]
  },
  {
   "cell_type": "code",
   "execution_count": 17,
   "id": "7177a93d",
   "metadata": {},
   "outputs": [],
   "source": [
    "def number_visits(transitions,states):\n",
    "    NV = [0 for _ in range(states)]\n",
    "    \n",
    "    for state in range(states):\n",
    "        state_bool = [1 if i==state else 0 for i in transitions]\n",
    "        \n",
    "        size = len(state_bool)\n",
    "        \n",
    "        idx_list = [idx  for idx, val in enumerate(state_bool) if val == 0]\n",
    "    \n",
    "        \n",
    "        split_list = [state_bool[i+1: j] for i, j in zip([-1] + idx_list, idx_list + [size])]\n",
    "        visit_list = [b for b in split_list if b != []]\n",
    "        \n",
    "        \n",
    "        NV[state] = len( visit_list)\n",
    "\n",
    "    return NV"
   ]
  },
  {
   "cell_type": "code",
   "execution_count": 18,
   "id": "1250bef9",
   "metadata": {},
   "outputs": [],
   "source": [
    "def average_zscore(array):\n",
    "    all_subjects = []\n",
    "    for subject_array in array:\n",
    "        df_array = pd.DataFrame(subject_array.T)\n",
    "        df_array['network'] = networks\n",
    "        series_average = df_array.groupby('network').mean()\n",
    "        scaler = StandardScaler()\n",
    "        #scaled_series = scaler.fit_transform(series_average.T)\n",
    "        scaled_series = series_average.T.apply(zscore)\n",
    "        networks_name = scaled_series.columns\n",
    "        all_subjects.append(scaled_series.values)\n",
    "        #all_subjects.append(scaled_series)\n",
    "    return(np.array(all_subjects), networks_name )"
   ]
  },
  {
   "cell_type": "code",
   "execution_count": 19,
   "id": "2a04ad89",
   "metadata": {},
   "outputs": [],
   "source": [
    "scans = ['_scan_restpre']\n",
    "stimuli = ['ses-occ', 'ses-fro' ]\n",
    "\n",
    "pre_occ = np.array(get_all_data(['_scan_restpre'], ['ses-occ'],subjects, dirpath, parcel))\n",
    "\n",
    "pre_fro = np.array(get_all_data(['_scan_restpre'], ['ses-fro'],subjects, dirpath, parcel))\n",
    "average_pre = (pre_occ  + pre_fro) / 2\n",
    "\n",
    "all_networks = schafer['network']\n",
    "all_networks.drop(all_networks.index[all_networks == 'Limbic'], inplace=True)\n",
    "networks = all_networks.values\n"
   ]
  },
  {
   "cell_type": "code",
   "execution_count": 20,
   "id": "7cae366e",
   "metadata": {},
   "outputs": [],
   "source": [
    "pre_sequences, networks_name = average_zscore(average_pre)\n",
    "pre_concatenated = pre_sequences.reshape(-1, pre_sequences.shape[-1])\n",
    "lenghts_pre = np.array([600 for i in range(23)])"
   ]
  },
  {
   "cell_type": "code",
   "execution_count": 21,
   "id": "a8e4b4c4",
   "metadata": {},
   "outputs": [
    {
     "data": {
      "text/plain": [
       "Index(['ContA', 'ContB', 'ContC', 'DefaultA', 'DefaultB', 'DefaultC',\n",
       "       'DorsAttnA', 'DorsAttnB', 'SalVentAttnA', 'SalVentAttnB', 'SomMotA',\n",
       "       'SomMotB', 'TempPar', 'VisCent', 'VisPeri'],\n",
       "      dtype='object', name='network')"
      ]
     },
     "execution_count": 21,
     "metadata": {},
     "output_type": "execute_result"
    }
   ],
   "source": [
    "networks_name"
   ]
  },
  {
   "cell_type": "code",
   "execution_count": 22,
   "id": "fb96e138",
   "metadata": {},
   "outputs": [],
   "source": [
    "pre_occ_sequences, networks_name = average_zscore(pre_occ)\n",
    "pre_occ_concatenated = pre_occ_sequences.reshape(-1, pre_occ_sequences.shape[-1])\n",
    "lenghts_pre = np.array([600 for i in range(23)])"
   ]
  },
  {
   "cell_type": "code",
   "execution_count": 23,
   "id": "344f45b0",
   "metadata": {},
   "outputs": [
    {
     "data": {
      "text/plain": [
       "-4.218763739462168"
      ]
     },
     "execution_count": 23,
     "metadata": {},
     "output_type": "execute_result"
    }
   ],
   "source": [
    "pre_concatenated.min()"
   ]
  },
  {
   "cell_type": "code",
   "execution_count": 24,
   "id": "599933e0",
   "metadata": {},
   "outputs": [
    {
     "name": "stdout",
     "output_type": "stream",
     "text": [
      "shape post occ (13800, 15)\n",
      "shape fro occ (13800, 15)\n"
     ]
    }
   ],
   "source": [
    "post_occ = np.array(get_all_data(['_scan_restpost'], ['ses-occ'],subjects, dirpath, parcel))\n",
    "post_fro = np.array(get_all_data(['_scan_restpost'], ['ses-fro'],subjects, dirpath, parcel))\n",
    "\n",
    "post_occ_sequences,networks_name = average_zscore(post_occ)\n",
    "post_occ_concatenated = post_occ_sequences.reshape(-1, post_occ_sequences.shape[-1])\n",
    "\n",
    "post_fro_sequences,networks_name = average_zscore(post_fro)\n",
    "post_fro_concatenated = post_fro_sequences.reshape(-1, post_fro_sequences.shape[-1])\n",
    "\n",
    "lenght_post = np.array([600 for i in range(23)])\n",
    "print('shape post occ', post_occ_concatenated.shape)\n",
    "print('shape fro occ', post_fro_concatenated .shape)"
   ]
  },
  {
   "cell_type": "code",
   "execution_count": 25,
   "id": "cd29ed18",
   "metadata": {},
   "outputs": [
    {
     "data": {
      "text/plain": [
       "-5.877404336399572"
      ]
     },
     "execution_count": 25,
     "metadata": {},
     "output_type": "execute_result"
    }
   ],
   "source": [
    "post_occ_concatenated.min()"
   ]
  },
  {
   "cell_type": "code",
   "execution_count": 26,
   "id": "dd1ddf4c",
   "metadata": {},
   "outputs": [
    {
     "data": {
      "text/plain": [
       "GaussianHMM(covariance_type='full', n_components=12, n_iter=100,\n",
       "            random_state=42)"
      ]
     },
     "execution_count": 26,
     "metadata": {},
     "output_type": "execute_result"
    }
   ],
   "source": [
    "states = 12\n",
    "hmm_pre = hmm.GaussianHMM(n_components=states , covariance_type=\"full\",n_iter=100, random_state=42)\n",
    "hmm_pre.fit(pre_concatenated, lenghts_pre.T)\n",
    "#model_pre = fit_multiple_states(hmm_pre, pre_series.T, lenghts.T, 16)"
   ]
  },
  {
   "cell_type": "code",
   "execution_count": 27,
   "id": "38ab7fb9",
   "metadata": {},
   "outputs": [],
   "source": [
    "predicted_sequences_pre =  hmm_pre.predict(pre_concatenated, lenghts_pre.T)\n",
    "splited_predicted_sequences_pre = np.array(np.split(np.array(predicted_sequences_pre), 23))"
   ]
  },
  {
   "cell_type": "code",
   "execution_count": 28,
   "id": "db9e73bb",
   "metadata": {},
   "outputs": [],
   "source": [
    "predicted_sequences_occ_post = hmm_pre.predict(post_occ_concatenated, lenght_post.T)\n",
    "splited_predicted_sequences_occ_post = np.array(np.split(np.array(predicted_sequences_occ_post), 23))\n",
    "predicted_sequences_fro_post = hmm_pre.predict(post_fro_concatenated, lenght_post.T)\n",
    "splited_predicted_sequences_fro_post = np.array(np.split(np.array(predicted_sequences_fro_post), 23))"
   ]
  },
  {
   "cell_type": "code",
   "execution_count": 29,
   "id": "94ae72cc",
   "metadata": {},
   "outputs": [
    {
     "data": {
      "text/plain": [
       "(23, 600)"
      ]
     },
     "execution_count": 29,
     "metadata": {},
     "output_type": "execute_result"
    }
   ],
   "source": [
    "splited_predicted_sequences_pre.shape"
   ]
  },
  {
   "cell_type": "code",
   "execution_count": 30,
   "id": "7ab8a948",
   "metadata": {},
   "outputs": [],
   "source": [
    "fraccional_occupacy_pre = []\n",
    "\n",
    "for predicted_sequence in splited_predicted_sequences_pre:\n",
    "    \n",
    "    F = fraccional_occupacy(predicted_sequence,states)\n",
    "    \n",
    "    fraccional_occupacy_pre.append(F)\n",
    "\n",
    "fraccional_occupacy_pre = np.array(fraccional_occupacy_pre)\n",
    "\n",
    "\n",
    "fraccional_occupacy_occ_post = []\n",
    "\n",
    "for predicted_sequence in splited_predicted_sequences_occ_post:\n",
    "    \n",
    "    F = fraccional_occupacy(predicted_sequence,states)\n",
    "    \n",
    "    fraccional_occupacy_occ_post.append(F)\n",
    "\n",
    "fraccional_occupacy_occ_post = np.array(fraccional_occupacy_occ_post)\n",
    "\n",
    "\n",
    "fraccional_occupacy_fro_post = []\n",
    "\n",
    "for predicted_sequence in splited_predicted_sequences_fro_post:\n",
    "    \n",
    "    F = fraccional_occupacy(predicted_sequence,states)\n",
    "    \n",
    "    fraccional_occupacy_fro_post.append(F)\n",
    "\n",
    "fraccional_occupacy_fro_post = np.array(fraccional_occupacy_fro_post)\n",
    "\n",
    "fraccional_occupacy_pre_post_occ = fraccional_occupacy_pre - fraccional_occupacy_occ_post \n",
    "fraccional_occupacy_pre_post_occ_z = zscore(fraccional_occupacy_pre_post_occ)\n",
    "fraccional_occupacy_pre_post_fro = fraccional_occupacy_pre - fraccional_occupacy_fro_post\n",
    "fraccional_occupacy_pre_post_fro_z = zscore(fraccional_occupacy_pre_post_fro)\n"
   ]
  },
  {
   "cell_type": "code",
   "execution_count": 31,
   "id": "871a4bf2",
   "metadata": {},
   "outputs": [],
   "source": [
    "mean_life_time_pre = []\n",
    "\n",
    "for predicted_sequence in splited_predicted_sequences_pre:\n",
    "    \n",
    "    ML = mean_life_time(predicted_sequence,states)\n",
    "    \n",
    "    mean_life_time_pre.append(ML)\n",
    "\n",
    "mean_life_time_pre = np.array(mean_life_time_pre)\n",
    "\n",
    "mean_life_time_occ_post = []\n",
    "\n",
    "for predicted_sequence in splited_predicted_sequences_occ_post:\n",
    "    \n",
    "    ML = mean_life_time(predicted_sequence,states)\n",
    "    \n",
    "    mean_life_time_occ_post.append(ML)\n",
    "\n",
    "mean_life_time_occ_post = np.array(mean_life_time_occ_post)\n",
    "\n",
    "mean_life_time_fro_post = []\n",
    "\n",
    "for predicted_sequence in splited_predicted_sequences_fro_post:\n",
    "    \n",
    "    ML = mean_life_time(predicted_sequence,states)\n",
    "    \n",
    "    mean_life_time_fro_post.append(ML)\n",
    "\n",
    "mean_life_time_fro_post = np.array(mean_life_time_fro_post)\n",
    "\n",
    "\n",
    "\n",
    "mean_life_time_pre_post_occ = mean_life_time_pre - mean_life_time_occ_post\n",
    "mean_life_time_pre_post_occ_z = zscore(mean_life_time_pre_post_occ)\n",
    "mean_life_time_pre_post_fro = mean_life_time_pre - mean_life_time_fro_post\n",
    "mean_life_time_pre_post_fro_z = zscore(mean_life_time_pre_post_fro)\n",
    "\n",
    "\n",
    "\n"
   ]
  },
  {
   "cell_type": "code",
   "execution_count": 32,
   "id": "7de40761",
   "metadata": {},
   "outputs": [],
   "source": [
    "interval_times_pre = []\n",
    "\n",
    "for predicted_sequence in splited_predicted_sequences_pre:\n",
    "    \n",
    "    IT = interval_time(predicted_sequence,states)\n",
    "    \n",
    "    interval_times_pre.append(IT)\n",
    "\n",
    "interval_times_pre = np.array(interval_times_pre)\n",
    "\n",
    "interval_times_occ_post = []\n",
    "\n",
    "for predicted_sequence in splited_predicted_sequences_occ_post:\n",
    "    \n",
    "    IT = interval_time(predicted_sequence,states)\n",
    "    \n",
    "    interval_times_occ_post.append(IT)\n",
    "\n",
    "interval_times_occ_post = np.array(interval_times_occ_post)\n",
    "\n",
    "interval_times_fro_post = []\n",
    "\n",
    "for predicted_sequence in splited_predicted_sequences_fro_post:\n",
    "    \n",
    "    IT = interval_time(predicted_sequence,states)\n",
    "    \n",
    "    interval_times_fro_post.append(IT)\n",
    "\n",
    "interval_times_fro_post = np.array(interval_times_fro_post)\n",
    "\n",
    "\n",
    "\n",
    "interval_times_pre_post_occ = interval_times_pre - interval_times_occ_post \n",
    "interval_times_pre_post_occ_z = zscore(interval_times_pre_post_occ)\n",
    "\n",
    "interval_times_pre_post_fro = interval_times_pre - interval_times_fro_post\n",
    "interval_times_pre_post_fro_z = zscore(interval_times_pre_post_fro)"
   ]
  },
  {
   "cell_type": "code",
   "execution_count": 33,
   "id": "96b52654",
   "metadata": {},
   "outputs": [],
   "source": [
    "number_visits_pre = []\n",
    "\n",
    "for predicted_sequence in splited_predicted_sequences_pre:\n",
    "    \n",
    "    NV = number_visits(predicted_sequence,states)\n",
    "    \n",
    "    number_visits_pre.append(NV)\n",
    "\n",
    "number_visits_pre = np.array(number_visits_pre)\n",
    "\n",
    "number_visits_occ_post = []\n",
    "\n",
    "for predicted_sequence in splited_predicted_sequences_occ_post:\n",
    "    \n",
    "    NV = number_visits(predicted_sequence,states)\n",
    "    \n",
    "    number_visits_occ_post.append(NV)\n",
    "\n",
    "number_visits_occ_post = np.array(number_visits_occ_post)\n",
    "\n",
    "number_visits_fro_post = []\n",
    "\n",
    "for predicted_sequence in splited_predicted_sequences_fro_post:\n",
    "    \n",
    "    NV = number_visits(predicted_sequence,states)\n",
    "    \n",
    "    number_visits_fro_post.append(NV)\n",
    "\n",
    "number_visits_fro_post = np.array(number_visits_fro_post)\n",
    "\n",
    "\n",
    "number_visits_pre_post_occ = number_visits_pre - number_visits_occ_post \n",
    "number_visits_pre_post_occ_z = zscore(number_visits_pre_post_occ)\n",
    "number_visits_pre_post_fro = number_visits_pre - number_visits_fro_post\n",
    "number_visits_pre_post_fro_z = zscore(number_visits_pre_post_fro)"
   ]
  },
  {
   "cell_type": "code",
   "execution_count": 34,
   "id": "454cdded",
   "metadata": {},
   "outputs": [],
   "source": [
    "scans_label = ['Pre'] * 23 + ['Post'] * 46\n",
    "\n",
    "stimuli_label = ['Pre'] * 23 + ['occ'] * 23  + ['fro'] * 23\n",
    "\n",
    "subject_label = subjects * 3\n",
    "\n",
    "state_column =[ 'state_'+ str(i) for i in range(1,states + 1)] \n"
   ]
  },
  {
   "cell_type": "code",
   "execution_count": 35,
   "id": "81516468",
   "metadata": {},
   "outputs": [
    {
     "data": {
      "text/plain": [
       "(46, 48)"
      ]
     },
     "execution_count": 35,
     "metadata": {},
     "output_type": "execute_result"
    }
   ],
   "source": [
    "X_occ = np.concatenate((fraccional_occupacy_pre_post_occ_z,mean_life_time_pre_post_occ_z, interval_times_pre_post_occ_z, number_visits_pre_post_occ_z ), axis =1)\n",
    "X_fro = np.concatenate((fraccional_occupacy_pre_post_fro_z,mean_life_time_pre_post_fro_z, interval_times_pre_post_fro_z, number_visits_pre_post_fro_z ), axis =1)\n",
    "\n",
    "\n",
    "X = np.concatenate((X_occ,X_fro))\n",
    "X.shape"
   ]
  },
  {
   "cell_type": "markdown",
   "id": "821496d7",
   "metadata": {},
   "source": [
    "## PLS"
   ]
  },
  {
   "cell_type": "code",
   "execution_count": 36,
   "id": "ac2aed28",
   "metadata": {},
   "outputs": [
    {
     "name": "stderr",
     "output_type": "stream",
     "text": [
      "Running permutations:   0%|                                   | 0/5000 | 00:00<?/home/jarvis/miniconda3/envs/hmm/lib/python3.7/site-packages/sklearn/utils/extmath.py:376: FutureWarning: If 'random_state' is not supplied, the current default is to use 0 as a fixed seed. This will change to  None in version 1.2 leading to non-deterministic results that better reflect nature of the randomized_svd solver. If you want to silence this warning, set 'random_state' to an integer seed or to None explicitly depending if you want your code to be deterministic or not.\n",
      "  FutureWarning,\n",
      "                                                                                \r"
     ]
    }
   ],
   "source": [
    "pls = meancentered_pls(X,n_cond=2, mean_centering=2, seed=42)"
   ]
  },
  {
   "cell_type": "code",
   "execution_count": 37,
   "id": "a65250e6",
   "metadata": {},
   "outputs": [],
   "source": [
    "y_weights = pls.y_weights"
   ]
  },
  {
   "cell_type": "code",
   "execution_count": 142,
   "id": "1c56e588",
   "metadata": {},
   "outputs": [],
   "source": [
    "y_loadings_df = pd.DataFrame({'1': y_weights[:,0], '2': y_weights[:,1], 'condition': [\"OCC\", 'FRO']})\n",
    "y_loadings_m = pd.melt(y_loadings_df,id_vars=['condition'],value_name='weight', var_name = 'salvar_id')\n",
    "\n",
    "y_loadings_beh_m['ci_l'] = np.concatenate([pls_beh.bootres.y_loadings_ci[:,0,0], pls_beh.bootres.y_loadings_ci[:,1,0],pls_beh.bootres.y_loadings_ci[:,2,0]])\n",
    "y_loadings_beh_m['ci_u'] = np.concatenate([pls_beh.bootres.y_loadings_ci[:,0,1], pls_beh.bootres.y_loadings_ci[:,1,1], pls_beh.bootres.y_loadings_ci[:,2,1]])\n",
    "\n",
    "y_loadings_beh_m['ci_l_p'] = y_loadings_beh_m['weight'] - y_loadings_beh_m['ci_l']\n",
    "y_loadings_beh_m['ci_u_p'] = y_loadings_beh_m['weight'] - y_loadings_beh_m['ci_u']\n",
    "y_loadings_beh_m['err'] = (y_loadings_beh_m['ci_u'] - y_loadings_beh_m['ci_l'])/2"
   ]
  },
  {
   "cell_type": "code",
   "execution_count": 143,
   "id": "1e56f226",
   "metadata": {},
   "outputs": [
    {
     "data": {
      "text/html": [
       "<div>\n",
       "<style scoped>\n",
       "    .dataframe tbody tr th:only-of-type {\n",
       "        vertical-align: middle;\n",
       "    }\n",
       "\n",
       "    .dataframe tbody tr th {\n",
       "        vertical-align: top;\n",
       "    }\n",
       "\n",
       "    .dataframe thead th {\n",
       "        text-align: right;\n",
       "    }\n",
       "</style>\n",
       "<table border=\"1\" class=\"dataframe\">\n",
       "  <thead>\n",
       "    <tr style=\"text-align: right;\">\n",
       "      <th></th>\n",
       "      <th>condition</th>\n",
       "      <th>salvar_id</th>\n",
       "      <th>weight</th>\n",
       "    </tr>\n",
       "  </thead>\n",
       "  <tbody>\n",
       "    <tr>\n",
       "      <th>0</th>\n",
       "      <td>OCC</td>\n",
       "      <td>1</td>\n",
       "      <td>-0.697962</td>\n",
       "    </tr>\n",
       "    <tr>\n",
       "      <th>1</th>\n",
       "      <td>FRO</td>\n",
       "      <td>1</td>\n",
       "      <td>0.716135</td>\n",
       "    </tr>\n",
       "    <tr>\n",
       "      <th>2</th>\n",
       "      <td>OCC</td>\n",
       "      <td>2</td>\n",
       "      <td>-0.716135</td>\n",
       "    </tr>\n",
       "    <tr>\n",
       "      <th>3</th>\n",
       "      <td>FRO</td>\n",
       "      <td>2</td>\n",
       "      <td>-0.697962</td>\n",
       "    </tr>\n",
       "  </tbody>\n",
       "</table>\n",
       "</div>"
      ],
      "text/plain": [
       "  condition salvar_id    weight\n",
       "0       OCC         1 -0.697962\n",
       "1       FRO         1  0.716135\n",
       "2       OCC         2 -0.716135\n",
       "3       FRO         2 -0.697962"
      ]
     },
     "execution_count": 143,
     "metadata": {},
     "output_type": "execute_result"
    }
   ],
   "source": [
    "y_loadings_beh_m"
   ]
  },
  {
   "cell_type": "code",
   "execution_count": 161,
   "id": "704af135",
   "metadata": {},
   "outputs": [
    {
     "data": {
      "image/png": "[encoded data removed]",
      "text/plain": [
       "<Figure size 864x360 with 2 Axes>"
      ]
     },
     "metadata": {
      "needs_background": "light"
     },
     "output_type": "display_data"
    }
   ],
   "source": [
    "g = sns.catplot(x=\"condition\", y=\"weight\", kind=\"bar\", col=\"salvar_id\", ci=None, aspect=1.2, hue=\"condition\",data=y_loadings_beh_m)\n",
    "\n",
    "\n"
   ]
  },
  {
   "cell_type": "code",
   "execution_count": 162,
   "id": "2ba949d9",
   "metadata": {},
   "outputs": [
    {
     "name": "stdout",
     "output_type": "stream",
     "text": [
      "Help on PLSBootResults in module pyls.structures object:\n",
      "\n",
      "class PLSBootResults(pyls.utils.ResDict)\n",
      " |  PLSBootResults(**kwargs)\n",
      " |  \n",
      " |  Dictionary-like object containing results of PLS bootstrap resampling\n",
      " |  \n",
      " |  Attributes\n",
      " |  ----------\n",
      " |  x_weights_normed : (B, L) `numpy.ndarray`\n",
      " |      `x_weights` normalized by their standard error, obtained from bootstrap\n",
      " |      resampling (see `x_weights_stderr`)\n",
      " |  x_weights_stderr : (B, L) `numpy.ndarray`\n",
      " |      Standard error of `x_weights`, used to generate `x_weights_normed`\n",
      " |  y_loadings : (J, L) `numpy.ndarray`\n",
      " |      Covariance of features in `Y` with projected `x_scores`; not available\n",
      " |      with :func:`.meancentered_pls`\n",
      " |  y_loadings_boot : (J, L, R) `numpy.ndarray`\n",
      " |      Distribution of `y_loadings` across all bootstrap resamples; not\n",
      " |      available with :func:`.meancentered_pls`\n",
      " |  y_loadings_ci: (J, L, 2) `numpy.ndarray`\n",
      " |      Lower (..., 0) and upper (..., 1) bounds of confidence interval for\n",
      " |      `y_loadings`; not available with :func:`.meancentered_pls`\n",
      " |  contrast : (J, L) `numpy.ndarray`\n",
      " |      Group x condition averages of :attr:`brainscores_demeaned`. Can be\n",
      " |      treated as a contrast indicating group x condition differences. Only\n",
      " |      obtained from :obj:`.meancentered_pls`.\n",
      " |  contrast_boot : (J, L, R) `numpy.ndarray`\n",
      " |      Bootstrapped distribution of `contrast`; only available with\n",
      " |      :func:`.meancentered_pls`\n",
      " |  contrast_ci : (J, L, 2) `numpy.ndarray`\n",
      " |      Lower (..., 0) and upper (..., 1) bounds of confidence interval for\n",
      " |      `contrast`; only available with :func:`.meancentered_pls`\n",
      " |  bootsamples : (S, R) `numpy.ndarray`\n",
      " |      Indices of bootstrapped samples `S` across `R` resamples.\n",
      " |  \n",
      " |  Method resolution order:\n",
      " |      PLSBootResults\n",
      " |      pyls.utils.ResDict\n",
      " |      sklearn.utils.Bunch\n",
      " |      builtins.dict\n",
      " |      builtins.object\n",
      " |  \n",
      " |  Data and other attributes defined here:\n",
      " |  \n",
      " |  allowed = ['x_weights_normed', 'x_weights_stderr', 'bootsamples', 'y_l...\n",
      " |  \n",
      " |  ----------------------------------------------------------------------\n",
      " |  Methods inherited from pyls.utils.ResDict:\n",
      " |  \n",
      " |  __eq__(self, value)\n",
      " |      Return self==value.\n",
      " |  \n",
      " |  __init__(self, **kwargs)\n",
      " |      Initialize self.  See help(type(self)) for accurate signature.\n",
      " |  \n",
      " |  __ne__(self, value)\n",
      " |      Return self!=value.\n",
      " |  \n",
      " |  __repr__ = __str__(self)\n",
      " |  \n",
      " |  __setitem__(self, key, val)\n",
      " |      Set self[key] to value.\n",
      " |  \n",
      " |  __str__(self)\n",
      " |      Return str(self).\n",
      " |  \n",
      " |  ----------------------------------------------------------------------\n",
      " |  Data and other attributes inherited from pyls.utils.ResDict:\n",
      " |  \n",
      " |  __hash__ = None\n",
      " |  \n",
      " |  ----------------------------------------------------------------------\n",
      " |  Methods inherited from sklearn.utils.Bunch:\n",
      " |  \n",
      " |  __dir__(self)\n",
      " |      Default dir() implementation.\n",
      " |  \n",
      " |  __getattr__(self, key)\n",
      " |  \n",
      " |  __setattr__(self, key, value)\n",
      " |      Implement setattr(self, name, value).\n",
      " |  \n",
      " |  __setstate__(self, state)\n",
      " |  \n",
      " |  ----------------------------------------------------------------------\n",
      " |  Data descriptors inherited from sklearn.utils.Bunch:\n",
      " |  \n",
      " |  __dict__\n",
      " |      dictionary for instance variables (if defined)\n",
      " |  \n",
      " |  __weakref__\n",
      " |      list of weak references to the object (if defined)\n",
      " |  \n",
      " |  ----------------------------------------------------------------------\n",
      " |  Methods inherited from builtins.dict:\n",
      " |  \n",
      " |  __contains__(self, key, /)\n",
      " |      True if the dictionary has the specified key, else False.\n",
      " |  \n",
      " |  __delitem__(self, key, /)\n",
      " |      Delete self[key].\n",
      " |  \n",
      " |  __ge__(self, value, /)\n",
      " |      Return self>=value.\n",
      " |  \n",
      " |  __getattribute__(self, name, /)\n",
      " |      Return getattr(self, name).\n",
      " |  \n",
      " |  __getitem__(...)\n",
      " |      x.__getitem__(y) <==> x[y]\n",
      " |  \n",
      " |  __gt__(self, value, /)\n",
      " |      Return self>value.\n",
      " |  \n",
      " |  __iter__(self, /)\n",
      " |      Implement iter(self).\n",
      " |  \n",
      " |  __le__(self, value, /)\n",
      " |      Return self<=value.\n",
      " |  \n",
      " |  __len__(self, /)\n",
      " |      Return len(self).\n",
      " |  \n",
      " |  __lt__(self, value, /)\n",
      " |      Return self<value.\n",
      " |  \n",
      " |  __sizeof__(...)\n",
      " |      D.__sizeof__() -> size of D in memory, in bytes\n",
      " |  \n",
      " |  clear(...)\n",
      " |      D.clear() -> None.  Remove all items from D.\n",
      " |  \n",
      " |  copy(...)\n",
      " |      D.copy() -> a shallow copy of D\n",
      " |  \n",
      " |  get(self, key, default=None, /)\n",
      " |      Return the value for key if key is in the dictionary, else default.\n",
      " |  \n",
      " |  items(...)\n",
      " |      D.items() -> a set-like object providing a view on D's items\n",
      " |  \n",
      " |  keys(...)\n",
      " |      D.keys() -> a set-like object providing a view on D's keys\n",
      " |  \n",
      " |  pop(...)\n",
      " |      D.pop(k[,d]) -> v, remove specified key and return the corresponding value.\n",
      " |      If key is not found, d is returned if given, otherwise KeyError is raised\n",
      " |  \n",
      " |  popitem(...)\n",
      " |      D.popitem() -> (k, v), remove and return some (key, value) pair as a\n",
      " |      2-tuple; but raise KeyError if D is empty.\n",
      " |  \n",
      " |  setdefault(self, key, default=None, /)\n",
      " |      Insert key with a value of default if key is not in the dictionary.\n",
      " |      \n",
      " |      Return the value for key if key is in the dictionary, else default.\n",
      " |  \n",
      " |  update(...)\n",
      " |      D.update([E, ]**F) -> None.  Update D from dict/iterable E and F.\n",
      " |      If E is present and has a .keys() method, then does:  for k in E: D[k] = E[k]\n",
      " |      If E is present and lacks a .keys() method, then does:  for k, v in E: D[k] = v\n",
      " |      In either case, this is followed by: for k in F:  D[k] = F[k]\n",
      " |  \n",
      " |  values(...)\n",
      " |      D.values() -> an object providing a view on D's values\n",
      " |  \n",
      " |  ----------------------------------------------------------------------\n",
      " |  Class methods inherited from builtins.dict:\n",
      " |  \n",
      " |  fromkeys(iterable, value=None, /) from builtins.type\n",
      " |      Create a new dictionary with keys from iterable and values set to value.\n",
      " |  \n",
      " |  ----------------------------------------------------------------------\n",
      " |  Static methods inherited from builtins.dict:\n",
      " |  \n",
      " |  __new__(*args, **kwargs) from builtins.type\n",
      " |      Create and return a new object.  See help(type) for accurate signature.\n",
      "\n"
     ]
    }
   ],
   "source": [
    "help(pls.bootres)"
   ]
  },
  {
   "cell_type": "code",
   "execution_count": 175,
   "id": "3e2a7dae",
   "metadata": {},
   "outputs": [
    {
     "data": {
      "text/plain": [
       "array([1., 1.])"
      ]
     },
     "execution_count": 175,
     "metadata": {},
     "output_type": "execute_result"
    }
   ],
   "source": [
    "pls.permres.pvals"
   ]
  },
  {
   "cell_type": "code",
   "execution_count": 169,
   "id": "e3a2fa93",
   "metadata": {},
   "outputs": [
    {
     "data": {
      "text/plain": [
       "array([[0.31633732, 0.16042898],\n",
       "       [0.3071029 , 0.15847711]])"
      ]
     },
     "execution_count": 169,
     "metadata": {},
     "output_type": "execute_result"
    }
   ],
   "source": [
    "pls.bootres.contrast_ci[:,:,1]"
   ]
  },
  {
   "cell_type": "markdown",
   "id": "a25d737c",
   "metadata": {},
   "source": [
    "## Example from paper"
   ]
  },
  {
   "cell_type": "code",
   "execution_count": 100,
   "id": "d6f73cdb",
   "metadata": {},
   "outputs": [],
   "source": [
    "X = [[2,5,6,1,9,1, 7, 6, 2, 1, 7, 3],\n",
    "     [4,1,5,8, 8,7, 2, 8, 6, 4, 8, 2],\n",
    "    [5,8,7,3, 7,1, 7, 4, 5, 1, 4, 3],\n",
    "    [3,3,7,6, 1,1,10,2,2, 1, 7, 4],\n",
    "    [2,3,8,7, 1,6, 9, 1, 8, 8, 1, 6],\n",
    "    [1,7,3,1, 1,3, 1, 8, 1, 3, 9, 5],\n",
    "    [9,0,7,1, 8,7, 4, 2, 3, 6, 2, 7],\n",
    "    [8,0,6,5, 9,7, 4, 4,2,10,3,8],\n",
    "    [7,7,4,5, 7,6, 7, 6, 5, 4, 8, 8]]"
   ]
  },
  {
   "cell_type": "code",
   "execution_count": 101,
   "id": "704be6e8",
   "metadata": {},
   "outputs": [
    {
     "data": {
      "text/plain": [
       "(9, 12)"
      ]
     },
     "execution_count": 101,
     "metadata": {},
     "output_type": "execute_result"
    }
   ],
   "source": [
    "np.array(X).shape"
   ]
  },
  {
   "cell_type": "code",
   "execution_count": 104,
   "id": "d26065e7",
   "metadata": {},
   "outputs": [
    {
     "name": "stderr",
     "output_type": "stream",
     "text": [
      "/home/jarvis/miniconda3/envs/hmm/lib/python3.7/site-packages/pyls-0.0.1-py3.7.egg/pyls/types/meancentered.py:32: UserWarning: Cannot set mean_centering to 0 when there is only one condition. Resetting mean_centering to 1.\n",
      "  warnings.warn('Cannot set mean_centering to 0 when there is only '\n",
      "Running permutations:   0%|                                   | 0/5000 | 00:00<?/home/jarvis/miniconda3/envs/hmm/lib/python3.7/site-packages/sklearn/utils/extmath.py:376: FutureWarning: If 'random_state' is not supplied, the current default is to use 0 as a fixed seed. This will change to  None in version 1.2 leading to non-deterministic results that better reflect nature of the randomized_svd solver. If you want to silence this warning, set 'random_state' to an integer seed or to None explicitly depending if you want your code to be deterministic or not.\n",
      "  FutureWarning,\n",
      "Making bootstraps:   0%|                                      | 0/5000 | 00:00<?/home/jarvis/miniconda3/envs/hmm/lib/python3.7/site-packages/pyls-0.0.1-py3.7.egg/pyls/base.py:154: UserWarning: WARNING: Duplicate bootstraps used.\n",
      "  warnings.warn('WARNING: Duplicate bootstraps used.')\n",
      "                                                                                \r"
     ]
    }
   ],
   "source": [
    "pls_e = meancentered_pls(X, groups=[3,3,3], seed=42)"
   ]
  },
  {
   "cell_type": "code",
   "execution_count": 106,
   "id": "3a39c13e",
   "metadata": {},
   "outputs": [
    {
     "data": {
      "text/plain": [
       "PLSResults(x_weights, y_weights, x_scores, y_scores, singvals, varexp, permres, bootres, inputs)"
      ]
     },
     "execution_count": 106,
     "metadata": {},
     "output_type": "execute_result"
    }
   ],
   "source": [
    "pls_e"
   ]
  },
  {
   "cell_type": "code",
   "execution_count": 107,
   "id": "842a9c91",
   "metadata": {},
   "outputs": [
    {
     "data": {
      "text/plain": [
       "array([0.03259348, 0.39612078, 0.98020396])"
      ]
     },
     "execution_count": 107,
     "metadata": {},
     "output_type": "execute_result"
    }
   ],
   "source": [
    "pls_e.permres.pvals"
   ]
  },
  {
   "cell_type": "code",
   "execution_count": null,
   "id": "140743b7",
   "metadata": {},
   "outputs": [],
   "source": [
    "pls_e.x_weights"
   ]
  },
  {
   "cell_type": "markdown",
   "id": "a9224355",
   "metadata": {},
   "source": [
    "## PLS THREE GROUPS"
   ]
  },
  {
   "cell_type": "code",
   "execution_count": 111,
   "id": "379f6449",
   "metadata": {},
   "outputs": [],
   "source": [
    "X_pre = np.concatenate((fraccional_occupacy_pre, mean_life_time_pre, interval_times_pre), axis=1)\n",
    "X_occ = np.concatenate((fraccional_occupacy_occ_post, mean_life_time_occ_post, interval_times_occ_post), axis=1)\n",
    "X_fro = np.concatenate((fraccional_occupacy_fro_post, mean_life_time_fro_post, interval_times_fro_post), axis=1)\n",
    "\n",
    "\n",
    "X_pre = interval_times_pre\n",
    "X_occ = interval_times_occ_post\n",
    "X_fro = interval_times_fro_post\n",
    "\n",
    "X_pre_s =StandardScaler().fit_transform(X_pre)\n",
    "X_occ_s= StandardScaler().fit_transform(X_occ)\n",
    "X_fro_s =StandardScaler().fit_transform(X_fro)\n"
   ]
  },
  {
   "cell_type": "code",
   "execution_count": 112,
   "id": "72f75bd0",
   "metadata": {},
   "outputs": [
    {
     "data": {
      "text/plain": [
       "(69, 12)"
      ]
     },
     "execution_count": 112,
     "metadata": {},
     "output_type": "execute_result"
    }
   ],
   "source": [
    "X = np.concatenate((X_pre_s,X_occ_s, X_fro_s ))\n",
    "X.shape"
   ]
  },
  {
   "cell_type": "code",
   "execution_count": 116,
   "id": "7902fa35",
   "metadata": {},
   "outputs": [
    {
     "name": "stderr",
     "output_type": "stream",
     "text": [
      "/home/jarvis/miniconda3/envs/hmm/lib/python3.7/site-packages/pyls-0.0.1-py3.7.egg/pyls/types/meancentered.py:32: UserWarning: Cannot set mean_centering to 0 when there is only one condition. Resetting mean_centering to 1.\n",
      "  warnings.warn('Cannot set mean_centering to 0 when there is only '\n",
      "Running permutations:   0%|                                   | 0/1000 | 00:00<?/home/jarvis/miniconda3/envs/hmm/lib/python3.7/site-packages/sklearn/utils/extmath.py:376: FutureWarning: If 'random_state' is not supplied, the current default is to use 0 as a fixed seed. This will change to  None in version 1.2 leading to non-deterministic results that better reflect nature of the randomized_svd solver. If you want to silence this warning, set 'random_state' to an integer seed or to None explicitly depending if you want your code to be deterministic or not.\n",
      "  FutureWarning,\n",
      "                                                                                \r"
     ]
    }
   ],
   "source": [
    "pls_t = meancentered_pls(X,groups=[23,23,23], seed=42,n_perm=1000)"
   ]
  },
  {
   "cell_type": "code",
   "execution_count": 117,
   "id": "53deb43e",
   "metadata": {},
   "outputs": [
    {
     "data": {
      "text/plain": [
       "array([1., 1., 1.])"
      ]
     },
     "execution_count": 117,
     "metadata": {},
     "output_type": "execute_result"
    }
   ],
   "source": [
    "pls_t.permres.pvals"
   ]
  },
  {
   "cell_type": "code",
   "execution_count": 3,
   "id": "45782b88",
   "metadata": {},
   "outputs": [],
   "source": [
    "y = np.array([1,1,1,0,0,0])"
   ]
  },
  {
   "cell_type": "code",
   "execution_count": 5,
   "id": "bd8ea109",
   "metadata": {},
   "outputs": [
    {
     "ename": "ValueError",
     "evalue": "cannot reshape array of size 6 into shape (6,3)",
     "output_type": "error",
     "traceback": [
      "\u001b[0;31m---------------------------------------------------------------------------\u001b[0m",
      "\u001b[0;31mValueError\u001b[0m                                Traceback (most recent call last)",
      "\u001b[0;32m/tmp/ipykernel_6955/3453534207.py\u001b[0m in \u001b[0;36m<module>\u001b[0;34m\u001b[0m\n\u001b[0;32m----> 1\u001b[0;31m \u001b[0my\u001b[0m\u001b[0;34m.\u001b[0m\u001b[0mreshape\u001b[0m\u001b[0;34m(\u001b[0m\u001b[0;34m(\u001b[0m\u001b[0my\u001b[0m\u001b[0;34m.\u001b[0m\u001b[0mshape\u001b[0m\u001b[0;34m[\u001b[0m\u001b[0;36m0\u001b[0m\u001b[0;34m]\u001b[0m\u001b[0;34m,\u001b[0m\u001b[0;36m3\u001b[0m\u001b[0;34m)\u001b[0m\u001b[0;34m)\u001b[0m\u001b[0;34m\u001b[0m\u001b[0;34m\u001b[0m\u001b[0m\n\u001b[0m",
      "\u001b[0;31mValueError\u001b[0m: cannot reshape array of size 6 into shape (6,3)"
     ]
    }
   ],
   "source": [
    "y.reshape((y.shape[0],3))"
   ]
  },
  {
   "cell_type": "code",
   "execution_count": 16,
   "id": "95113649",
   "metadata": {},
   "outputs": [
    {
     "data": {
      "text/plain": [
       "array([1, 1, 1, 0, 0, 0, 1, 1, 1, 0, 0, 0, 1, 1, 1, 0, 0, 0, 1, 1, 1, 0,\n",
       "       0, 0, 1, 1, 1, 0, 0, 0, 1, 1, 1, 0, 0, 0, 1, 1, 1, 0, 0, 0, 1, 1,\n",
       "       1, 0, 0, 0, 1, 1, 1, 0, 0, 0, 1, 1, 1, 0, 0, 0, 1, 1, 1, 0, 0, 0,\n",
       "       1, 1, 1, 0, 0, 0, 1, 1, 1, 0, 0, 0, 1, 1, 1, 0, 0, 0, 1, 1, 1, 0,\n",
       "       0, 0, 1, 1, 1, 0, 0, 0, 1, 1, 1, 0, 0, 0, 1, 1, 1, 0, 0, 0, 1, 1,\n",
       "       1, 0, 0, 0, 1, 1, 1, 0, 0, 0])"
      ]
     },
     "execution_count": 16,
     "metadata": {},
     "output_type": "execute_result"
    }
   ],
   "source": [
    "np.array([list(y)]*20).T.flatten()"
   ]
  },
  {
   "cell_type": "code",
   "execution_count": null,
   "id": "bbdd8259",
   "metadata": {},
   "outputs": [],
   "source": []
  }
 ],
 "metadata": {
  "kernelspec": {
   "display_name": "Python 3 (ipykernel)",
   "language": "python",
   "name": "python3"
  },
  "language_info": {
   "codemirror_mode": {
    "name": "ipython",
    "version": 3
   },
   "file_extension": ".py",
   "mimetype": "text/x-python",
   "name": "python",
   "nbconvert_exporter": "python",
   "pygments_lexer": "ipython3",
   "version": "3.7.11"
  }
 },
 "nbformat": 4,
 "nbformat_minor": 5
}
